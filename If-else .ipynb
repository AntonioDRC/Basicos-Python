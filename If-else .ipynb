{
 "cells": [
  {
   "cell_type": "code",
   "execution_count": 1,
   "metadata": {},
   "outputs": [
    {
     "name": "stdout",
     "output_type": "stream",
     "text": [
      "El número es diferente de cero\n"
     ]
    }
   ],
   "source": [
    "# Solicita un número del usuario \n",
    "num = float(input(\"Ingresa un número\")) \n",
    "# incia estructura de control \n",
    "if num == 0: \n",
    "    result = \"El número es cero\" \n",
    "else: \n",
    "    result = \"El número es diferente de cero\" \n",
    "# muestra el resultado \n",
    "print(result)"
   ]
  }
 ],
 "metadata": {
  "kernelspec": {
   "display_name": "Python 3.9.12 ('base')",
   "language": "python",
   "name": "python3"
  },
  "language_info": {
   "codemirror_mode": {
    "name": "ipython",
    "version": 3
   },
   "file_extension": ".py",
   "mimetype": "text/x-python",
   "name": "python",
   "nbconvert_exporter": "python",
   "pygments_lexer": "ipython3",
   "version": "3.9.12"
  },
  "orig_nbformat": 4,
  "vscode": {
   "interpreter": {
    "hash": "30bff4f76b0b62bf5d93e60d1098353a71a95af85f66445c3d72c64723dc3573"
   }
  }
 },
 "nbformat": 4,
 "nbformat_minor": 2
}
